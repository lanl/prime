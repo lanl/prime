{
 "cells": [
  {
   "cell_type": "code",
   "execution_count": 51,
   "metadata": {},
   "outputs": [
    {
     "name": "stdout",
     "output_type": "stream",
     "text": [
      "esm_blstm-21774790: \n",
      "\t(best) epoch 687, rmse 0.3497\n",
      "esm_blstm-21774791: \n",
      "\t(best) epoch 999, rmse 0.4444\n",
      "esm_fcn-21774809: \n",
      "\t(best) epoch 236, rmse 0.5097\n",
      "esm_fcn-21774811: \n",
      "\t(best) epoch 920, rmse 0.3277\n",
      "esm_gcn-21774823: \n",
      "\t(best) epoch 306, rmse 1.1718\n",
      "esm_gcn-21774824: \n",
      "\t(best) epoch 499, rmse 0.6067\n",
      "esm_blstm_be-21774745: \n",
      "\t(best be) epoch 801, rmse 0.6693; b_rmse 0.5647, e_rmse 0.3593\n",
      "\t(best binding) epoch 801, b_rmse 0.5647\n",
      "\t(best expression) epoch 801, e_rmse 0.3593\n"
     ]
    }
   ],
   "source": [
    "import os\n",
    "import re\n",
    "import pandas as pd\n",
    "\n",
    "data_dir = '../../src/pnlp/ESM_TL/logs'\n",
    "\n",
    "for model_folder in os.listdir(data_dir):\n",
    "    model_folder_path = os.path.join(data_dir, model_folder)\n",
    "    if os.path.isdir(model_folder_path):  # Check if the path is a directory\n",
    "\n",
    "        for version_folder in os.listdir(model_folder_path):\n",
    "            version_folder_path = os.path.join(model_folder_path, version_folder)\n",
    "            if os.path.isdir(version_folder_path):\n",
    "\n",
    "                for file in os.listdir(version_folder_path):\n",
    "                    file_path = os.path.join(version_folder_path, file)\n",
    "                    if file == 'metrics.csv':\n",
    "                        \n",
    "                        # Extract data from metrics file\n",
    "                        df = pd.read_csv(file_path, sep=',', header=0)\n",
    "\n",
    "                        # Merge rows for each epoch and keep 'epoch' as a column\n",
    "                        merged_df = df.groupby(\"epoch\").ffill().bfill().drop_duplicates().reset_index()\n",
    "\n",
    "                        # Ensure 'epoch' is correctly named and exists\n",
    "                        if \"epoch\" not in merged_df.columns:\n",
    "                            merged_df.rename(columns={\"index\": \"epoch\"}, inplace=True)  # Rename if it was reset incorrectly\n",
    "\n",
    "                        # Divide epoch by 2 to correct numbering\n",
    "                        merged_df.loc[:, \"epoch\"] = (merged_df[\"epoch\"] // 2).astype(int)\n",
    "\n",
    "                        # Ensure sorting is correct\n",
    "                        merged_df = merged_df.sort_values(\"epoch\").reset_index(drop=True)\n",
    "\n",
    "                        if model_folder.endswith(\"be\"):\n",
    "                            # Get best (min) rmse row\n",
    "                            best_rmse_row = merged_df.loc[merged_df[\"val_be_rmse\"].idxmin()]\n",
    "                            epoch = best_rmse_row[\"epoch\"]\n",
    "                            rmse = best_rmse_row[\"val_be_rmse\"]\n",
    "                            b_rmse = best_rmse_row[\"val_binding_rmse\"]\n",
    "                            e_rmse = best_rmse_row[\"val_expression_rmse\"]\n",
    "                            print(f\"{model_folder}-{version_folder.split('_')[1]}: \\n\\t(best be) epoch {int(epoch)}, rmse {rmse:.4f}; b_rmse {b_rmse:.4f}, e_rmse {e_rmse:.4f}\")\n",
    "\n",
    "                            best_binding_rmse_row = merged_df.loc[merged_df[\"val_binding_rmse\"].idxmin()]\n",
    "                            epoch = best_rmse_row[\"epoch\"]\n",
    "                            b_rmse = best_rmse_row[\"val_binding_rmse\"]\n",
    "                            print(f\"\\t(best binding) epoch {int(epoch)}, b_rmse {b_rmse:.4f}\")\n",
    "\n",
    "                            best_expression_rmse_row = merged_df.loc[merged_df[\"val_expression_rmse\"].idxmin()]\n",
    "                            epoch = best_rmse_row[\"epoch\"]\n",
    "                            e_rmse = best_rmse_row[\"val_expression_rmse\"]\n",
    "                            print(f\"\\t(best expression) epoch {int(epoch)}, e_rmse {e_rmse:.4f}\")\n",
    "\n",
    "                        else:\n",
    "                            # Get best (min) rmse row\n",
    "                            best_rmse_row = merged_df.loc[merged_df[\"val_rmse\"].idxmin()]\n",
    "                            epoch = best_rmse_row[\"epoch\"]\n",
    "                            rmse = best_rmse_row[\"val_rmse\"]\n",
    "                            print(f\"{model_folder}-{version_folder.split('_')[1]}: \\n\\t(best) epoch {int(epoch)}, rmse {rmse:.4f}\")\n",
    "                        \n",
    "\n"
   ]
  },
  {
   "cell_type": "code",
   "execution_count": null,
   "metadata": {},
   "outputs": [],
   "source": []
  }
 ],
 "metadata": {
  "kernelspec": {
   "display_name": ".venv",
   "language": "python",
   "name": "python3"
  },
  "language_info": {
   "codemirror_mode": {
    "name": "ipython",
    "version": 3
   },
   "file_extension": ".py",
   "mimetype": "text/x-python",
   "name": "python",
   "nbconvert_exporter": "python",
   "pygments_lexer": "ipython3",
   "version": "3.11.11"
  }
 },
 "nbformat": 4,
 "nbformat_minor": 2
}
